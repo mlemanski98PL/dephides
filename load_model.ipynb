{
 "cells": [
  {
   "cell_type": "code",
   "execution_count": 73,
   "metadata": {},
   "outputs": [],
   "source": [
    "import tensorflow as tf\n",
    "import numpy as np\n",
    "import json\n",
    "loaded_model = tf.keras.models.load_model('./test_results/custom/cnn_complex/model_all.keras')\n",
    "from keras.preprocessing import sequence\n",
    "\n"
   ]
  },
  {
   "cell_type": "code",
   "execution_count": 74,
   "metadata": {},
   "outputs": [],
   "source": [
    "loaded_model\n",
    "\n",
    "def load_text_vectorizer(path):\n",
    "    config_json = path + \"vectorizer_config.json\"\n",
    "    vocab_json = path + \"vectorizer_vocab.json\"\n",
    "    \n",
    "    with open(config_json, 'r') as f:\n",
    "        config = json.load(f)\n",
    "    \n",
    "    with open(vocab_json, 'r') as f:\n",
    "        vocab = json.load(f)\n",
    "    \n",
    "    vectorizer = tf.keras.layers.TextVectorization.from_config(config)\n",
    "    vectorizer.set_vocabulary(vocab)\n",
    "    \n",
    "    return vectorizer"
   ]
  },
  {
   "cell_type": "code",
   "execution_count": 75,
   "metadata": {},
   "outputs": [],
   "source": [
    "vectorizer = load_text_vectorizer('./test_results/custom/cnn_complex/')\n",
    "\n",
    "raw_x_test = ['https://stackoverflow.com/questions/36404042/importerror-no-module-named-sklearn-python','https://www.tensorflow.org/responsible_ai/fairness_indicators/tutorials/Fairness_Indicators_TFCO_Wiki_Case_Study','https://wool-16t.pages.dev/wi0n0erary0mpalert048']\n",
    "\n",
    "\n",
    "x_test = vectorizer(raw_x_test)\n",
    "seq_length = 200\n"
   ]
  },
  {
   "cell_type": "code",
   "execution_count": 76,
   "metadata": {},
   "outputs": [],
   "source": [
    "x_test = sequence.pad_sequences(x_test, maxlen=seq_length)\n"
   ]
  },
  {
   "cell_type": "code",
   "execution_count": 77,
   "metadata": {},
   "outputs": [
    {
     "data": {
      "text/plain": [
       "array([[ 0,  0,  0,  0,  0,  0,  0,  0,  0,  0,  0,  0,  0,  0,  0,  0,\n",
       "         0,  0,  0,  0,  0,  0,  0,  0,  0,  0,  0,  0,  0,  0,  0,  0,\n",
       "         0,  0,  0,  0,  0,  0,  0,  0,  0,  0,  0,  0,  0,  0,  0,  0,\n",
       "         0,  0,  0,  0,  0,  0,  0,  0,  0,  0,  0,  0,  0,  0,  0,  0,\n",
       "         0,  0,  0,  0,  0,  0,  0,  0,  0,  0,  0,  0,  0,  0,  0,  0,\n",
       "         0,  0,  0,  0,  0,  0,  0,  0,  0,  0,  0,  0,  0,  0,  0,  0,\n",
       "         0,  0,  0,  0,  0,  0,  0,  0, 12,  2,  2, 11,  6,  6,  2,  4,\n",
       "         9, 24,  5, 26,  3,  8, 25, 16,  5, 13,  9,  5, 14, 37, 18,  3,\n",
       "         6,  2,  7,  5, 10,  6, 31, 23, 32, 22, 32, 22, 32, 15,  7, 14,\n",
       "        11,  5,  8,  2,  3,  8,  8,  5,  8, 10,  5, 14,  5, 17, 18, 16,\n",
       "         3, 10,  4, 14,  3, 17,  6, 24, 16,  3,  4,  8, 10, 11, 28,  2,\n",
       "        12,  5, 10,  0,  0,  0,  0,  0,  0,  0,  0,  0,  0,  0,  0,  0,\n",
       "         0,  0,  0,  0,  0,  0,  0,  0],\n",
       "       [ 0,  0,  0,  0,  0,  0,  0,  0,  0,  0,  0,  0,  0,  0,  0,  0,\n",
       "         0,  0,  0,  0,  0,  0,  0,  0,  0,  0,  0,  0,  0,  0,  0,  0,\n",
       "         0,  0,  0,  0,  0,  0,  0,  0,  0,  0,  0,  0,  0,  0,  0,  0,\n",
       "         0,  0,  0,  0,  0,  0,  0,  0,  0,  0,  0,  0,  0,  0,  0,  0,\n",
       "         0,  0,  0,  0,  0,  0,  0,  0,  0,  0,  0,  0,  0,  0,  0,  0,\n",
       "         0,  0,  0,  0,  0,  0,  0,  0,  0,  0,  0,  0,  0,  0,  0,  0,\n",
       "         0,  0,  0,  0,  0,  0,  0,  0, 12,  2,  2, 11,  6, 13, 13, 13,\n",
       "         2,  3, 10,  6,  5,  8, 25, 16,  5, 13,  5,  8, 27,  8,  3,  6,\n",
       "        11,  5, 10,  6,  7, 21, 16,  3,  4,  7, 25,  4,  7,  8, 10,  3,\n",
       "         6,  6,  7, 10, 17,  7,  9,  4,  2,  5,  8,  6,  2, 18,  2,  5,\n",
       "         8,  7,  4, 16,  6, 25,  4,  7,  8, 10,  3,  6,  6,  7, 10, 17,\n",
       "         7,  9,  4,  2,  5,  8,  6,  2, 25,  9,  5, 13,  7, 24,  7,  9,\n",
       "         4,  6,  3,  6,  2, 18, 17, 28],\n",
       "       [ 0,  0,  0,  0,  0,  0,  0,  0,  0,  0,  0,  0,  0,  0,  0,  0,\n",
       "         0,  0,  0,  0,  0,  0,  0,  0,  0,  0,  0,  0,  0,  0,  0,  0,\n",
       "         0,  0,  0,  0,  0,  0,  0,  0,  0,  0,  0,  0,  0,  0,  0,  0,\n",
       "         0,  0,  0,  0,  0,  0,  0,  0,  0,  0,  0,  0,  0,  0,  0,  0,\n",
       "         0,  0,  0,  0,  0,  0,  0,  0,  0,  0,  0,  0,  0,  0,  0,  0,\n",
       "         0,  0,  0,  0,  0,  0,  0,  0,  0,  0,  0,  0,  0,  0,  0,  0,\n",
       "         0,  0,  0,  0,  0,  0,  0,  0, 12,  2,  2, 11,  6, 13,  5,  5,\n",
       "        16, 19, 23,  2, 11,  4, 27,  3,  6, 17,  3, 26, 13,  7, 22, 10,\n",
       "        22,  3,  8,  4,  8, 28, 22, 14, 11,  4, 16,  3,  8,  2, 22, 32,\n",
       "        33,  0,  0,  0,  0,  0,  0,  0,  0,  0,  0,  0,  0,  0,  0,  0,\n",
       "         0,  0,  0,  0,  0,  0,  0,  0,  0,  0,  0,  0,  0,  0,  0,  0,\n",
       "         0,  0,  0,  0,  0,  0,  0,  0,  0,  0,  0,  0,  0,  0,  0,  0,\n",
       "         0,  0,  0,  0,  0,  0,  0,  0]], dtype=int32)"
      ]
     },
     "execution_count": 77,
     "metadata": {},
     "output_type": "execute_result"
    }
   ],
   "source": [
    "x_test\n"
   ]
  },
  {
   "cell_type": "code",
   "execution_count": 78,
   "metadata": {},
   "outputs": [
    {
     "name": "stdout",
     "output_type": "stream",
     "text": [
      "\u001b[1m1/1\u001b[0m \u001b[32m━━━━━━━━━━━━━━━━━━━━\u001b[0m\u001b[37m\u001b[0m \u001b[1m0s\u001b[0m 60ms/step\n"
     ]
    }
   ],
   "source": [
    "\n",
    "\n",
    "\n",
    "y_pred = np.argmax(loaded_model.predict(x_test))\n"
   ]
  },
  {
   "cell_type": "code",
   "execution_count": 79,
   "metadata": {},
   "outputs": [
    {
     "name": "stdout",
     "output_type": "stream",
     "text": [
      "\u001b[1m1/1\u001b[0m \u001b[32m━━━━━━━━━━━━━━━━━━━━\u001b[0m\u001b[37m\u001b[0m \u001b[1m0s\u001b[0m 11ms/step\n"
     ]
    },
    {
     "data": {
      "text/plain": [
       "array([[0.69715506, 0.23107228],\n",
       "       [0.70916307, 0.22787455],\n",
       "       [0.6719666 , 0.2605838 ]], dtype=float32)"
      ]
     },
     "execution_count": 79,
     "metadata": {},
     "output_type": "execute_result"
    }
   ],
   "source": [
    "loaded_model.predict(x_test)"
   ]
  },
  {
   "cell_type": "code",
   "execution_count": 82,
   "metadata": {},
   "outputs": [
    {
     "name": "stdout",
     "output_type": "stream",
     "text": [
      "\u001b[1m1/1\u001b[0m \u001b[32m━━━━━━━━━━━━━━━━━━━━\u001b[0m\u001b[37m\u001b[0m \u001b[1m0s\u001b[0m 13ms/step\n"
     ]
    }
   ],
   "source": [
    "y_pred = np.argmax(loaded_model.predict(x_test), axis=1)\n"
   ]
  },
  {
   "cell_type": "code",
   "execution_count": 83,
   "metadata": {},
   "outputs": [
    {
     "data": {
      "text/plain": [
       "array([0, 0, 0])"
      ]
     },
     "execution_count": 83,
     "metadata": {},
     "output_type": "execute_result"
    }
   ],
   "source": []
  },
  {
   "cell_type": "code",
   "execution_count": null,
   "metadata": {},
   "outputs": [],
   "source": []
  },
  {
   "cell_type": "code",
   "execution_count": null,
   "metadata": {},
   "outputs": [],
   "source": []
  }
 ],
 "metadata": {
  "kernelspec": {
   "display_name": "base",
   "language": "python",
   "name": "python3"
  },
  "language_info": {
   "codemirror_mode": {
    "name": "ipython",
    "version": 3
   },
   "file_extension": ".py",
   "mimetype": "text/x-python",
   "name": "python",
   "nbconvert_exporter": "python",
   "pygments_lexer": "ipython3",
   "version": "3.12.2"
  }
 },
 "nbformat": 4,
 "nbformat_minor": 2
}
